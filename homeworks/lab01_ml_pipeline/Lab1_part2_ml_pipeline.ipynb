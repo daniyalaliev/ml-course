{
 "cells": [
  {
   "cell_type": "markdown",
   "metadata": {
    "nbgrader": {
     "grade": false,
     "grade_id": "cell-86e0de040aac317a",
     "locked": true,
     "schema_version": 2,
     "solution": false
    }
   },
   "source": [
    "# Lab assignment №1, part 2\n",
    "\n",
    "This lab assignment consists of several parts. You are supposed to make some transformations, train some models, estimate the quality of the models and explain your results.\n",
    "\n",
    "Several comments:\n",
    "* Don't hesitate to ask questions, it's a good practice.\n",
    "* No private/public sharing, please. The copied assignments will be graded with 0 points.\n",
    "* Blocks of this lab will be graded separately."
   ]
  },
  {
   "cell_type": "markdown",
   "metadata": {},
   "source": [
    "__*This is the second part of the assignment. First and third parts are waiting for you in the same directory.*__"
   ]
  },
  {
   "cell_type": "markdown",
   "metadata": {
    "nbgrader": {
     "grade": false,
     "grade_id": "cell-512ba712fc0fc065",
     "locked": true,
     "schema_version": 2,
     "solution": false
    }
   },
   "source": [
    "## Part 2. Data preprocessing, model training and evaluation."
   ]
  },
  {
   "cell_type": "markdown",
   "metadata": {
    "nbgrader": {
     "grade": false,
     "grade_id": "cell-b656a4266174b009",
     "locked": true,
     "schema_version": 2,
     "solution": false
    }
   },
   "source": [
    "### 1. Reading the data\n",
    "Today we work with the [dataset](https://archive.ics.uci.edu/ml/datasets/Statlog+%28Vehicle+Silhouettes%29), describing different cars for multiclass ($k=4$) classification problem. The data is available below."
   ]
  },
  {
   "cell_type": "code",
   "execution_count": 1,
   "metadata": {},
   "outputs": [
    {
     "name": "stdout",
     "output_type": "stream",
     "text": [
      "zsh:1: command not found: wget\r\n"
     ]
    }
   ],
   "source": [
    "# If on colab, uncomment the following lines\n",
    "\n",
    "#! wget https://raw.githubusercontent.com/girafe-ai/ml-course/22f_made/homeworks/lab01_ml_pipeline/car_data.csv"
   ]
  },
  {
   "cell_type": "code",
   "execution_count": 76,
   "metadata": {
    "nbgrader": {
     "grade": false,
     "grade_id": "cell-eebac6bfdf73d0bc",
     "locked": true,
     "schema_version": 2,
     "solution": false
    }
   },
   "outputs": [
    {
     "name": "stdout",
     "output_type": "stream",
     "text": [
      "(846, 19) (846,)\n",
      "(549, 19) (549,) (297, 19) (297,)\n"
     ]
    }
   ],
   "source": [
    "import pandas as pd\n",
    "import numpy as np\n",
    "from sklearn.model_selection import train_test_split\n",
    "\n",
    "dataset = pd.read_csv('car_data.csv', delimiter=',', header=None).values\n",
    "data = dataset[:, :-1].astype(int)\n",
    "target = dataset[:, -1]\n",
    "\n",
    "print(data.shape, target.shape)\n",
    "\n",
    "X_train, X_test, y_train, y_test = train_test_split(data, target, test_size=0.35)\n",
    "print(X_train.shape, y_train.shape, X_test.shape, y_test.shape)"
   ]
  },
  {
   "cell_type": "markdown",
   "metadata": {
    "nbgrader": {
     "grade": false,
     "grade_id": "cell-88b1a0f688568f2c",
     "locked": true,
     "schema_version": 2,
     "solution": false
    }
   },
   "source": [
    "To get some insights about the dataset, `pandas` might be used. The `train` part is transformed to `pd.DataFrame` below."
   ]
  },
  {
   "cell_type": "code",
   "execution_count": 7,
   "metadata": {},
   "outputs": [
    {
     "data": {
      "text/html": [
       "<div>\n",
       "<style scoped>\n",
       "    .dataframe tbody tr th:only-of-type {\n",
       "        vertical-align: middle;\n",
       "    }\n",
       "\n",
       "    .dataframe tbody tr th {\n",
       "        vertical-align: top;\n",
       "    }\n",
       "\n",
       "    .dataframe thead th {\n",
       "        text-align: right;\n",
       "    }\n",
       "</style>\n",
       "<table border=\"1\" class=\"dataframe\">\n",
       "  <thead>\n",
       "    <tr style=\"text-align: right;\">\n",
       "      <th></th>\n",
       "      <th>0</th>\n",
       "      <th>1</th>\n",
       "      <th>2</th>\n",
       "      <th>3</th>\n",
       "      <th>4</th>\n",
       "      <th>5</th>\n",
       "      <th>6</th>\n",
       "      <th>7</th>\n",
       "      <th>8</th>\n",
       "      <th>9</th>\n",
       "      <th>10</th>\n",
       "      <th>11</th>\n",
       "      <th>12</th>\n",
       "      <th>13</th>\n",
       "      <th>14</th>\n",
       "      <th>15</th>\n",
       "      <th>16</th>\n",
       "      <th>17</th>\n",
       "      <th>18</th>\n",
       "    </tr>\n",
       "  </thead>\n",
       "  <tbody>\n",
       "    <tr>\n",
       "      <th>0</th>\n",
       "      <td>747</td>\n",
       "      <td>80</td>\n",
       "      <td>43</td>\n",
       "      <td>68</td>\n",
       "      <td>123</td>\n",
       "      <td>53</td>\n",
       "      <td>7</td>\n",
       "      <td>150</td>\n",
       "      <td>46</td>\n",
       "      <td>19</td>\n",
       "      <td>147</td>\n",
       "      <td>169</td>\n",
       "      <td>327</td>\n",
       "      <td>176</td>\n",
       "      <td>81</td>\n",
       "      <td>7</td>\n",
       "      <td>14</td>\n",
       "      <td>179</td>\n",
       "      <td>184</td>\n",
       "    </tr>\n",
       "    <tr>\n",
       "      <th>1</th>\n",
       "      <td>594</td>\n",
       "      <td>83</td>\n",
       "      <td>40</td>\n",
       "      <td>59</td>\n",
       "      <td>116</td>\n",
       "      <td>53</td>\n",
       "      <td>7</td>\n",
       "      <td>132</td>\n",
       "      <td>52</td>\n",
       "      <td>18</td>\n",
       "      <td>137</td>\n",
       "      <td>145</td>\n",
       "      <td>250</td>\n",
       "      <td>157</td>\n",
       "      <td>84</td>\n",
       "      <td>12</td>\n",
       "      <td>6</td>\n",
       "      <td>177</td>\n",
       "      <td>183</td>\n",
       "    </tr>\n",
       "    <tr>\n",
       "      <th>2</th>\n",
       "      <td>823</td>\n",
       "      <td>105</td>\n",
       "      <td>54</td>\n",
       "      <td>105</td>\n",
       "      <td>213</td>\n",
       "      <td>67</td>\n",
       "      <td>10</td>\n",
       "      <td>200</td>\n",
       "      <td>33</td>\n",
       "      <td>23</td>\n",
       "      <td>163</td>\n",
       "      <td>214</td>\n",
       "      <td>597</td>\n",
       "      <td>214</td>\n",
       "      <td>68</td>\n",
       "      <td>10</td>\n",
       "      <td>20</td>\n",
       "      <td>190</td>\n",
       "      <td>198</td>\n",
       "    </tr>\n",
       "    <tr>\n",
       "      <th>3</th>\n",
       "      <td>172</td>\n",
       "      <td>94</td>\n",
       "      <td>45</td>\n",
       "      <td>81</td>\n",
       "      <td>166</td>\n",
       "      <td>67</td>\n",
       "      <td>9</td>\n",
       "      <td>145</td>\n",
       "      <td>46</td>\n",
       "      <td>19</td>\n",
       "      <td>147</td>\n",
       "      <td>164</td>\n",
       "      <td>313</td>\n",
       "      <td>179</td>\n",
       "      <td>66</td>\n",
       "      <td>11</td>\n",
       "      <td>14</td>\n",
       "      <td>194</td>\n",
       "      <td>202</td>\n",
       "    </tr>\n",
       "    <tr>\n",
       "      <th>4</th>\n",
       "      <td>238</td>\n",
       "      <td>100</td>\n",
       "      <td>55</td>\n",
       "      <td>101</td>\n",
       "      <td>189</td>\n",
       "      <td>57</td>\n",
       "      <td>10</td>\n",
       "      <td>222</td>\n",
       "      <td>30</td>\n",
       "      <td>25</td>\n",
       "      <td>177</td>\n",
       "      <td>225</td>\n",
       "      <td>731</td>\n",
       "      <td>211</td>\n",
       "      <td>71</td>\n",
       "      <td>7</td>\n",
       "      <td>17</td>\n",
       "      <td>188</td>\n",
       "      <td>197</td>\n",
       "    </tr>\n",
       "    <tr>\n",
       "      <th>5</th>\n",
       "      <td>66</td>\n",
       "      <td>81</td>\n",
       "      <td>43</td>\n",
       "      <td>68</td>\n",
       "      <td>125</td>\n",
       "      <td>57</td>\n",
       "      <td>8</td>\n",
       "      <td>149</td>\n",
       "      <td>46</td>\n",
       "      <td>19</td>\n",
       "      <td>146</td>\n",
       "      <td>169</td>\n",
       "      <td>323</td>\n",
       "      <td>172</td>\n",
       "      <td>83</td>\n",
       "      <td>6</td>\n",
       "      <td>18</td>\n",
       "      <td>179</td>\n",
       "      <td>184</td>\n",
       "    </tr>\n",
       "    <tr>\n",
       "      <th>6</th>\n",
       "      <td>106</td>\n",
       "      <td>99</td>\n",
       "      <td>46</td>\n",
       "      <td>105</td>\n",
       "      <td>209</td>\n",
       "      <td>64</td>\n",
       "      <td>11</td>\n",
       "      <td>197</td>\n",
       "      <td>34</td>\n",
       "      <td>23</td>\n",
       "      <td>152</td>\n",
       "      <td>212</td>\n",
       "      <td>575</td>\n",
       "      <td>159</td>\n",
       "      <td>65</td>\n",
       "      <td>0</td>\n",
       "      <td>33</td>\n",
       "      <td>194</td>\n",
       "      <td>205</td>\n",
       "    </tr>\n",
       "    <tr>\n",
       "      <th>7</th>\n",
       "      <td>825</td>\n",
       "      <td>86</td>\n",
       "      <td>39</td>\n",
       "      <td>84</td>\n",
       "      <td>149</td>\n",
       "      <td>57</td>\n",
       "      <td>8</td>\n",
       "      <td>156</td>\n",
       "      <td>43</td>\n",
       "      <td>20</td>\n",
       "      <td>133</td>\n",
       "      <td>185</td>\n",
       "      <td>358</td>\n",
       "      <td>157</td>\n",
       "      <td>74</td>\n",
       "      <td>0</td>\n",
       "      <td>23</td>\n",
       "      <td>183</td>\n",
       "      <td>190</td>\n",
       "    </tr>\n",
       "    <tr>\n",
       "      <th>8</th>\n",
       "      <td>132</td>\n",
       "      <td>97</td>\n",
       "      <td>42</td>\n",
       "      <td>101</td>\n",
       "      <td>186</td>\n",
       "      <td>59</td>\n",
       "      <td>9</td>\n",
       "      <td>186</td>\n",
       "      <td>36</td>\n",
       "      <td>22</td>\n",
       "      <td>138</td>\n",
       "      <td>208</td>\n",
       "      <td>511</td>\n",
       "      <td>168</td>\n",
       "      <td>67</td>\n",
       "      <td>7</td>\n",
       "      <td>41</td>\n",
       "      <td>194</td>\n",
       "      <td>206</td>\n",
       "    </tr>\n",
       "    <tr>\n",
       "      <th>9</th>\n",
       "      <td>736</td>\n",
       "      <td>102</td>\n",
       "      <td>51</td>\n",
       "      <td>104</td>\n",
       "      <td>217</td>\n",
       "      <td>67</td>\n",
       "      <td>10</td>\n",
       "      <td>204</td>\n",
       "      <td>32</td>\n",
       "      <td>23</td>\n",
       "      <td>162</td>\n",
       "      <td>220</td>\n",
       "      <td>621</td>\n",
       "      <td>195</td>\n",
       "      <td>68</td>\n",
       "      <td>3</td>\n",
       "      <td>19</td>\n",
       "      <td>188</td>\n",
       "      <td>197</td>\n",
       "    </tr>\n",
       "    <tr>\n",
       "      <th>10</th>\n",
       "      <td>159</td>\n",
       "      <td>91</td>\n",
       "      <td>45</td>\n",
       "      <td>75</td>\n",
       "      <td>154</td>\n",
       "      <td>57</td>\n",
       "      <td>6</td>\n",
       "      <td>150</td>\n",
       "      <td>44</td>\n",
       "      <td>19</td>\n",
       "      <td>146</td>\n",
       "      <td>170</td>\n",
       "      <td>335</td>\n",
       "      <td>180</td>\n",
       "      <td>66</td>\n",
       "      <td>16</td>\n",
       "      <td>2</td>\n",
       "      <td>193</td>\n",
       "      <td>198</td>\n",
       "    </tr>\n",
       "    <tr>\n",
       "      <th>11</th>\n",
       "      <td>476</td>\n",
       "      <td>101</td>\n",
       "      <td>55</td>\n",
       "      <td>101</td>\n",
       "      <td>183</td>\n",
       "      <td>57</td>\n",
       "      <td>13</td>\n",
       "      <td>225</td>\n",
       "      <td>30</td>\n",
       "      <td>25</td>\n",
       "      <td>177</td>\n",
       "      <td>225</td>\n",
       "      <td>741</td>\n",
       "      <td>204</td>\n",
       "      <td>71</td>\n",
       "      <td>5</td>\n",
       "      <td>10</td>\n",
       "      <td>186</td>\n",
       "      <td>198</td>\n",
       "    </tr>\n",
       "    <tr>\n",
       "      <th>12</th>\n",
       "      <td>419</td>\n",
       "      <td>93</td>\n",
       "      <td>34</td>\n",
       "      <td>72</td>\n",
       "      <td>144</td>\n",
       "      <td>56</td>\n",
       "      <td>6</td>\n",
       "      <td>133</td>\n",
       "      <td>50</td>\n",
       "      <td>18</td>\n",
       "      <td>123</td>\n",
       "      <td>158</td>\n",
       "      <td>263</td>\n",
       "      <td>125</td>\n",
       "      <td>63</td>\n",
       "      <td>5</td>\n",
       "      <td>20</td>\n",
       "      <td>200</td>\n",
       "      <td>206</td>\n",
       "    </tr>\n",
       "    <tr>\n",
       "      <th>13</th>\n",
       "      <td>669</td>\n",
       "      <td>85</td>\n",
       "      <td>44</td>\n",
       "      <td>66</td>\n",
       "      <td>125</td>\n",
       "      <td>58</td>\n",
       "      <td>6</td>\n",
       "      <td>148</td>\n",
       "      <td>45</td>\n",
       "      <td>19</td>\n",
       "      <td>145</td>\n",
       "      <td>170</td>\n",
       "      <td>323</td>\n",
       "      <td>185</td>\n",
       "      <td>84</td>\n",
       "      <td>8</td>\n",
       "      <td>1</td>\n",
       "      <td>180</td>\n",
       "      <td>183</td>\n",
       "    </tr>\n",
       "    <tr>\n",
       "      <th>14</th>\n",
       "      <td>614</td>\n",
       "      <td>85</td>\n",
       "      <td>33</td>\n",
       "      <td>50</td>\n",
       "      <td>104</td>\n",
       "      <td>53</td>\n",
       "      <td>4</td>\n",
       "      <td>115</td>\n",
       "      <td>59</td>\n",
       "      <td>17</td>\n",
       "      <td>118</td>\n",
       "      <td>136</td>\n",
       "      <td>193</td>\n",
       "      <td>127</td>\n",
       "      <td>83</td>\n",
       "      <td>1</td>\n",
       "      <td>30</td>\n",
       "      <td>179</td>\n",
       "      <td>185</td>\n",
       "    </tr>\n",
       "  </tbody>\n",
       "</table>\n",
       "</div>"
      ],
      "text/plain": [
       "     0    1   2    3    4   5   6    7   8   9    10   11   12   13  14  15  \\\n",
       "0   747   80  43   68  123  53   7  150  46  19  147  169  327  176  81   7   \n",
       "1   594   83  40   59  116  53   7  132  52  18  137  145  250  157  84  12   \n",
       "2   823  105  54  105  213  67  10  200  33  23  163  214  597  214  68  10   \n",
       "3   172   94  45   81  166  67   9  145  46  19  147  164  313  179  66  11   \n",
       "4   238  100  55  101  189  57  10  222  30  25  177  225  731  211  71   7   \n",
       "5    66   81  43   68  125  57   8  149  46  19  146  169  323  172  83   6   \n",
       "6   106   99  46  105  209  64  11  197  34  23  152  212  575  159  65   0   \n",
       "7   825   86  39   84  149  57   8  156  43  20  133  185  358  157  74   0   \n",
       "8   132   97  42  101  186  59   9  186  36  22  138  208  511  168  67   7   \n",
       "9   736  102  51  104  217  67  10  204  32  23  162  220  621  195  68   3   \n",
       "10  159   91  45   75  154  57   6  150  44  19  146  170  335  180  66  16   \n",
       "11  476  101  55  101  183  57  13  225  30  25  177  225  741  204  71   5   \n",
       "12  419   93  34   72  144  56   6  133  50  18  123  158  263  125  63   5   \n",
       "13  669   85  44   66  125  58   6  148  45  19  145  170  323  185  84   8   \n",
       "14  614   85  33   50  104  53   4  115  59  17  118  136  193  127  83   1   \n",
       "\n",
       "    16   17   18  \n",
       "0   14  179  184  \n",
       "1    6  177  183  \n",
       "2   20  190  198  \n",
       "3   14  194  202  \n",
       "4   17  188  197  \n",
       "5   18  179  184  \n",
       "6   33  194  205  \n",
       "7   23  183  190  \n",
       "8   41  194  206  \n",
       "9   19  188  197  \n",
       "10   2  193  198  \n",
       "11  10  186  198  \n",
       "12  20  200  206  \n",
       "13   1  180  183  \n",
       "14  30  179  185  "
      ]
     },
     "execution_count": 7,
     "metadata": {},
     "output_type": "execute_result"
    }
   ],
   "source": [
    "X_train_pd = pd.DataFrame(X_train)\n",
    "\n",
    "# First 15 rows of our dataset.\n",
    "X_train_pd.head(15)"
   ]
  },
  {
   "cell_type": "markdown",
   "metadata": {
    "nbgrader": {
     "grade": false,
     "grade_id": "cell-98e7d91d77d65fcf",
     "locked": true,
     "schema_version": 2,
     "solution": false
    }
   },
   "source": [
    "Methods `describe` and `info` deliver some useful information."
   ]
  },
  {
   "cell_type": "code",
   "execution_count": 4,
   "metadata": {},
   "outputs": [
    {
     "data": {
      "text/html": [
       "<div>\n",
       "<style scoped>\n",
       "    .dataframe tbody tr th:only-of-type {\n",
       "        vertical-align: middle;\n",
       "    }\n",
       "\n",
       "    .dataframe tbody tr th {\n",
       "        vertical-align: top;\n",
       "    }\n",
       "\n",
       "    .dataframe thead th {\n",
       "        text-align: right;\n",
       "    }\n",
       "</style>\n",
       "<table border=\"1\" class=\"dataframe\">\n",
       "  <thead>\n",
       "    <tr style=\"text-align: right;\">\n",
       "      <th></th>\n",
       "      <th>0</th>\n",
       "      <th>1</th>\n",
       "      <th>2</th>\n",
       "      <th>3</th>\n",
       "      <th>4</th>\n",
       "      <th>5</th>\n",
       "      <th>6</th>\n",
       "      <th>7</th>\n",
       "      <th>8</th>\n",
       "      <th>9</th>\n",
       "      <th>10</th>\n",
       "      <th>11</th>\n",
       "      <th>12</th>\n",
       "      <th>13</th>\n",
       "      <th>14</th>\n",
       "      <th>15</th>\n",
       "      <th>16</th>\n",
       "      <th>17</th>\n",
       "      <th>18</th>\n",
       "    </tr>\n",
       "  </thead>\n",
       "  <tbody>\n",
       "    <tr>\n",
       "      <th>count</th>\n",
       "      <td>549.000000</td>\n",
       "      <td>549.000000</td>\n",
       "      <td>549.000000</td>\n",
       "      <td>549.000000</td>\n",
       "      <td>549.000000</td>\n",
       "      <td>549.000000</td>\n",
       "      <td>549.000000</td>\n",
       "      <td>549.000000</td>\n",
       "      <td>549.000000</td>\n",
       "      <td>549.000000</td>\n",
       "      <td>549.000000</td>\n",
       "      <td>549.000000</td>\n",
       "      <td>549.000000</td>\n",
       "      <td>549.000000</td>\n",
       "      <td>549.000000</td>\n",
       "      <td>549.000000</td>\n",
       "      <td>549.000000</td>\n",
       "      <td>549.000000</td>\n",
       "      <td>549.000000</td>\n",
       "    </tr>\n",
       "    <tr>\n",
       "      <th>mean</th>\n",
       "      <td>423.790528</td>\n",
       "      <td>93.393443</td>\n",
       "      <td>44.783242</td>\n",
       "      <td>81.661202</td>\n",
       "      <td>168.245902</td>\n",
       "      <td>61.557377</td>\n",
       "      <td>8.497268</td>\n",
       "      <td>168.251366</td>\n",
       "      <td>41.098361</td>\n",
       "      <td>20.542805</td>\n",
       "      <td>147.790528</td>\n",
       "      <td>187.987250</td>\n",
       "      <td>437.225865</td>\n",
       "      <td>174.615665</td>\n",
       "      <td>72.438980</td>\n",
       "      <td>6.236794</td>\n",
       "      <td>12.491803</td>\n",
       "      <td>188.857923</td>\n",
       "      <td>195.464481</td>\n",
       "    </tr>\n",
       "    <tr>\n",
       "      <th>std</th>\n",
       "      <td>246.431684</td>\n",
       "      <td>7.888944</td>\n",
       "      <td>6.236695</td>\n",
       "      <td>15.678277</td>\n",
       "      <td>33.001156</td>\n",
       "      <td>7.691526</td>\n",
       "      <td>4.648453</td>\n",
       "      <td>33.512753</td>\n",
       "      <td>7.859474</td>\n",
       "      <td>2.605526</td>\n",
       "      <td>14.597202</td>\n",
       "      <td>31.438647</td>\n",
       "      <td>178.636605</td>\n",
       "      <td>33.072854</td>\n",
       "      <td>7.306033</td>\n",
       "      <td>4.744035</td>\n",
       "      <td>8.925197</td>\n",
       "      <td>6.162774</td>\n",
       "      <td>7.503838</td>\n",
       "    </tr>\n",
       "    <tr>\n",
       "      <th>min</th>\n",
       "      <td>0.000000</td>\n",
       "      <td>76.000000</td>\n",
       "      <td>33.000000</td>\n",
       "      <td>40.000000</td>\n",
       "      <td>104.000000</td>\n",
       "      <td>47.000000</td>\n",
       "      <td>3.000000</td>\n",
       "      <td>112.000000</td>\n",
       "      <td>26.000000</td>\n",
       "      <td>17.000000</td>\n",
       "      <td>118.000000</td>\n",
       "      <td>130.000000</td>\n",
       "      <td>184.000000</td>\n",
       "      <td>109.000000</td>\n",
       "      <td>59.000000</td>\n",
       "      <td>0.000000</td>\n",
       "      <td>0.000000</td>\n",
       "      <td>176.000000</td>\n",
       "      <td>181.000000</td>\n",
       "    </tr>\n",
       "    <tr>\n",
       "      <th>25%</th>\n",
       "      <td>213.000000</td>\n",
       "      <td>88.000000</td>\n",
       "      <td>40.000000</td>\n",
       "      <td>70.000000</td>\n",
       "      <td>141.000000</td>\n",
       "      <td>57.000000</td>\n",
       "      <td>6.000000</td>\n",
       "      <td>146.000000</td>\n",
       "      <td>33.000000</td>\n",
       "      <td>19.000000</td>\n",
       "      <td>137.000000</td>\n",
       "      <td>167.000000</td>\n",
       "      <td>316.000000</td>\n",
       "      <td>149.000000</td>\n",
       "      <td>67.000000</td>\n",
       "      <td>2.000000</td>\n",
       "      <td>5.000000</td>\n",
       "      <td>184.000000</td>\n",
       "      <td>190.000000</td>\n",
       "    </tr>\n",
       "    <tr>\n",
       "      <th>50%</th>\n",
       "      <td>424.000000</td>\n",
       "      <td>92.000000</td>\n",
       "      <td>44.000000</td>\n",
       "      <td>79.000000</td>\n",
       "      <td>166.000000</td>\n",
       "      <td>61.000000</td>\n",
       "      <td>8.000000</td>\n",
       "      <td>157.000000</td>\n",
       "      <td>43.000000</td>\n",
       "      <td>20.000000</td>\n",
       "      <td>146.000000</td>\n",
       "      <td>178.000000</td>\n",
       "      <td>365.000000</td>\n",
       "      <td>174.000000</td>\n",
       "      <td>71.000000</td>\n",
       "      <td>5.000000</td>\n",
       "      <td>11.000000</td>\n",
       "      <td>188.000000</td>\n",
       "      <td>196.000000</td>\n",
       "    </tr>\n",
       "    <tr>\n",
       "      <th>75%</th>\n",
       "      <td>641.000000</td>\n",
       "      <td>99.000000</td>\n",
       "      <td>49.000000</td>\n",
       "      <td>98.000000</td>\n",
       "      <td>194.000000</td>\n",
       "      <td>65.000000</td>\n",
       "      <td>10.000000</td>\n",
       "      <td>197.000000</td>\n",
       "      <td>46.000000</td>\n",
       "      <td>23.000000</td>\n",
       "      <td>159.000000</td>\n",
       "      <td>216.000000</td>\n",
       "      <td>583.000000</td>\n",
       "      <td>198.000000</td>\n",
       "      <td>76.000000</td>\n",
       "      <td>9.000000</td>\n",
       "      <td>18.000000</td>\n",
       "      <td>193.000000</td>\n",
       "      <td>201.000000</td>\n",
       "    </tr>\n",
       "    <tr>\n",
       "      <th>max</th>\n",
       "      <td>845.000000</td>\n",
       "      <td>117.000000</td>\n",
       "      <td>59.000000</td>\n",
       "      <td>112.000000</td>\n",
       "      <td>322.000000</td>\n",
       "      <td>133.000000</td>\n",
       "      <td>55.000000</td>\n",
       "      <td>265.000000</td>\n",
       "      <td>61.000000</td>\n",
       "      <td>29.000000</td>\n",
       "      <td>188.000000</td>\n",
       "      <td>287.000000</td>\n",
       "      <td>1018.000000</td>\n",
       "      <td>268.000000</td>\n",
       "      <td>127.000000</td>\n",
       "      <td>22.000000</td>\n",
       "      <td>41.000000</td>\n",
       "      <td>204.000000</td>\n",
       "      <td>211.000000</td>\n",
       "    </tr>\n",
       "  </tbody>\n",
       "</table>\n",
       "</div>"
      ],
      "text/plain": [
       "               0           1           2           3           4           5   \\\n",
       "count  549.000000  549.000000  549.000000  549.000000  549.000000  549.000000   \n",
       "mean   423.790528   93.393443   44.783242   81.661202  168.245902   61.557377   \n",
       "std    246.431684    7.888944    6.236695   15.678277   33.001156    7.691526   \n",
       "min      0.000000   76.000000   33.000000   40.000000  104.000000   47.000000   \n",
       "25%    213.000000   88.000000   40.000000   70.000000  141.000000   57.000000   \n",
       "50%    424.000000   92.000000   44.000000   79.000000  166.000000   61.000000   \n",
       "75%    641.000000   99.000000   49.000000   98.000000  194.000000   65.000000   \n",
       "max    845.000000  117.000000   59.000000  112.000000  322.000000  133.000000   \n",
       "\n",
       "               6           7           8           9           10          11  \\\n",
       "count  549.000000  549.000000  549.000000  549.000000  549.000000  549.000000   \n",
       "mean     8.497268  168.251366   41.098361   20.542805  147.790528  187.987250   \n",
       "std      4.648453   33.512753    7.859474    2.605526   14.597202   31.438647   \n",
       "min      3.000000  112.000000   26.000000   17.000000  118.000000  130.000000   \n",
       "25%      6.000000  146.000000   33.000000   19.000000  137.000000  167.000000   \n",
       "50%      8.000000  157.000000   43.000000   20.000000  146.000000  178.000000   \n",
       "75%     10.000000  197.000000   46.000000   23.000000  159.000000  216.000000   \n",
       "max     55.000000  265.000000   61.000000   29.000000  188.000000  287.000000   \n",
       "\n",
       "                12          13          14          15          16  \\\n",
       "count   549.000000  549.000000  549.000000  549.000000  549.000000   \n",
       "mean    437.225865  174.615665   72.438980    6.236794   12.491803   \n",
       "std     178.636605   33.072854    7.306033    4.744035    8.925197   \n",
       "min     184.000000  109.000000   59.000000    0.000000    0.000000   \n",
       "25%     316.000000  149.000000   67.000000    2.000000    5.000000   \n",
       "50%     365.000000  174.000000   71.000000    5.000000   11.000000   \n",
       "75%     583.000000  198.000000   76.000000    9.000000   18.000000   \n",
       "max    1018.000000  268.000000  127.000000   22.000000   41.000000   \n",
       "\n",
       "               17          18  \n",
       "count  549.000000  549.000000  \n",
       "mean   188.857923  195.464481  \n",
       "std      6.162774    7.503838  \n",
       "min    176.000000  181.000000  \n",
       "25%    184.000000  190.000000  \n",
       "50%    188.000000  196.000000  \n",
       "75%    193.000000  201.000000  \n",
       "max    204.000000  211.000000  "
      ]
     },
     "execution_count": 4,
     "metadata": {},
     "output_type": "execute_result"
    }
   ],
   "source": [
    "X_train_pd.describe()"
   ]
  },
  {
   "cell_type": "code",
   "execution_count": 5,
   "metadata": {},
   "outputs": [
    {
     "name": "stdout",
     "output_type": "stream",
     "text": [
      "<class 'pandas.core.frame.DataFrame'>\n",
      "RangeIndex: 549 entries, 0 to 548\n",
      "Data columns (total 19 columns):\n",
      " #   Column  Non-Null Count  Dtype\n",
      "---  ------  --------------  -----\n",
      " 0   0       549 non-null    int64\n",
      " 1   1       549 non-null    int64\n",
      " 2   2       549 non-null    int64\n",
      " 3   3       549 non-null    int64\n",
      " 4   4       549 non-null    int64\n",
      " 5   5       549 non-null    int64\n",
      " 6   6       549 non-null    int64\n",
      " 7   7       549 non-null    int64\n",
      " 8   8       549 non-null    int64\n",
      " 9   9       549 non-null    int64\n",
      " 10  10      549 non-null    int64\n",
      " 11  11      549 non-null    int64\n",
      " 12  12      549 non-null    int64\n",
      " 13  13      549 non-null    int64\n",
      " 14  14      549 non-null    int64\n",
      " 15  15      549 non-null    int64\n",
      " 16  16      549 non-null    int64\n",
      " 17  17      549 non-null    int64\n",
      " 18  18      549 non-null    int64\n",
      "dtypes: int64(19)\n",
      "memory usage: 81.6 KB\n"
     ]
    }
   ],
   "source": [
    "X_train_pd.info()"
   ]
  },
  {
   "cell_type": "markdown",
   "metadata": {
    "nbgrader": {
     "grade": false,
     "grade_id": "cell-be844269be69c387",
     "locked": true,
     "schema_version": 2,
     "solution": false
    }
   },
   "source": [
    "### 2. Machine Learning pipeline\n",
    "Here you are supposed to perform the desired transformations. Please, explain your results briefly after each task."
   ]
  },
  {
   "cell_type": "markdown",
   "metadata": {},
   "source": [
    "#### 2.0. Data preprocessing\n",
    "* Make some transformations of the dataset (if necessary). Briefly explain the transformations"
   ]
  },
  {
   "cell_type": "code",
   "execution_count": 77,
   "metadata": {},
   "outputs": [
    {
     "data": {
      "text/plain": [
       "({'bus', 'opel', 'saab', 'van'}, {'bus', 'opel', 'saab', 'van'})"
      ]
     },
     "execution_count": 77,
     "metadata": {},
     "output_type": "execute_result"
    }
   ],
   "source": [
    "set(y_train), set(y_test)"
   ]
  },
  {
   "cell_type": "code",
   "execution_count": 78,
   "metadata": {
    "nbgrader": {
     "grade": true,
     "grade_id": "cell-a1514aa189a49fca",
     "locked": false,
     "points": 15,
     "schema_version": 2,
     "solution": true
    }
   },
   "outputs": [],
   "source": [
    "### YOUR CODE HERE\n",
    "from sklearn.preprocessing import StandardScaler, OneHotEncoder, LabelEncoder\n",
    "from sklearn.pipeline import make_pipeline\n",
    "from sklearn.linear_model import LogisticRegression\n",
    "from sklearn.model_selection import GridSearchCV\n",
    "\n",
    "#skaling\n",
    "scaler = StandardScaler()\n",
    "scaler.fit(X_train)\n",
    "X_train = scaler.transform(X_train)\n",
    "X_test = scaler.transform(X_test)\n",
    "\n",
    "#one-hot-encoding\n",
    "label = LabelEncoder()\n",
    "label.fit(y_train)\n",
    "y_train = label.transform(y_train)\n",
    "y_test = label.transform(y_test)"
   ]
  },
  {
   "cell_type": "markdown",
   "metadata": {},
   "source": [
    "#### 2.1. Basic logistic regression\n",
    "* Find optimal hyperparameters for logistic regression with cross-validation on the `train` data (small grid/random search is enough, no need to find the *best* parameters).\n",
    "\n",
    "* Estimate the model quality with `f1` and `accuracy` scores.\n",
    "* Plot a ROC-curve for the trained model. For the multiclass case you might use `scikitplot` library (e.g. `scikitplot.metrics.plot_roc(test_labels, predicted_proba)`).\n",
    "\n",
    "*Note: please, use the following hyperparameters for logistic regression: `multi_class='multinomial'`, `solver='saga'` `tol=1e-3` and ` max_iter=500`.*"
   ]
  },
  {
   "cell_type": "code",
   "execution_count": 79,
   "metadata": {},
   "outputs": [
    {
     "data": {
      "text/plain": [
       "array([3, 3, 1, 0, 3, 2, 1, 1, 2, 2, 3, 3, 1, 0, 0, 0, 2, 0, 3, 0, 3, 1,\n",
       "       1, 2, 1, 3, 2, 1, 1, 1, 0, 2, 0, 1, 3, 2, 0, 3, 3, 3, 1, 2, 2, 2,\n",
       "       1, 1, 2, 2, 0, 1, 0, 1, 1, 1, 2, 1, 1, 1, 1, 1, 0, 3, 0, 1, 1, 3,\n",
       "       2, 3, 2, 3, 3, 0, 2, 0, 1, 3, 1, 3, 3, 2, 1, 2, 3, 1, 1, 3, 1, 1,\n",
       "       0, 0, 2, 1, 3, 2, 0, 1, 0, 1, 0, 2, 3, 1, 3, 0, 0, 3, 0, 2, 1, 1,\n",
       "       2, 0, 2, 2, 0, 3, 2, 0, 3, 3, 1, 0, 1, 2, 0, 0, 0, 1, 0, 2, 1, 2,\n",
       "       0, 0, 2, 2, 0, 3, 1, 3, 3, 1, 1, 0, 2, 1, 3, 3, 0, 2, 3, 0, 2, 3,\n",
       "       2, 1, 0, 1, 2, 0, 3, 2, 1, 0, 1, 3, 3, 3, 2, 1, 1, 2, 2, 3, 3, 3,\n",
       "       0, 1, 0, 1, 0, 3, 3, 0, 0, 2, 2, 1, 0, 1, 3, 0, 1, 1, 0, 2, 0, 2,\n",
       "       2, 2, 1, 2, 3, 1, 1, 1, 0, 2, 2, 1, 1, 0, 3, 0, 3, 3, 3, 2, 1, 1,\n",
       "       0, 0, 3, 0, 1, 0, 0, 1, 2, 3, 2, 3, 1, 3, 1, 1, 3, 0, 1, 1, 1, 2,\n",
       "       0, 1, 0, 0, 3, 0, 2, 3, 3, 0, 0, 3, 0, 1, 1, 0, 3, 2, 0, 2, 1, 0,\n",
       "       3, 2, 0, 0, 2, 3, 0, 3, 0, 3, 1, 3, 0, 0, 1, 2, 1, 1, 3, 2, 1, 0,\n",
       "       3, 1, 0, 1, 0, 2, 2, 1, 3, 0, 1, 3, 0, 2, 3, 2, 2, 2, 2, 1, 3, 3,\n",
       "       2, 1, 2, 2, 1, 2, 1, 1, 3, 0, 2, 0, 2, 0, 0, 2, 0, 3, 1, 0, 3, 1,\n",
       "       0, 2, 2, 2, 2, 0, 2, 0, 1, 2, 0, 0, 3, 1, 1, 1, 3, 2, 0, 0, 3, 0,\n",
       "       3, 0, 2, 3, 3, 1, 2, 3, 1, 1, 2, 2, 0, 3, 3, 3, 3, 3, 2, 0, 3, 0,\n",
       "       3, 2, 1, 1, 0, 0, 1, 0, 1, 2, 1, 0, 0, 3, 2, 2, 3, 3, 1, 0, 0, 1,\n",
       "       0, 3, 3, 0, 3, 3, 1, 1, 2, 1, 1, 0, 1, 0, 2, 3, 2, 2, 3, 3, 2, 1,\n",
       "       2, 2, 0, 0, 3, 0, 1, 1, 3, 0, 3, 3, 2, 0, 3, 2, 2, 1, 3, 3, 2, 0,\n",
       "       3, 2, 2, 2, 0, 2, 3, 2, 0, 3, 1, 3, 3, 0, 2, 0, 1, 3, 3, 2, 0, 1,\n",
       "       0, 3, 1, 0, 0, 2, 0, 1, 0, 2, 0, 1, 2, 0, 1, 2, 2, 2, 2, 2, 0, 0,\n",
       "       3, 0, 1, 2, 1, 1, 2, 1, 3, 2, 1, 2, 1, 2, 3, 3, 3, 1, 0, 3, 0, 0,\n",
       "       2, 0, 3, 0, 0, 2, 2, 3, 1, 2, 2, 0, 2, 0, 3, 3, 3, 0, 1, 2, 1, 3,\n",
       "       3, 1, 0, 1, 2, 2, 1, 3, 0, 0, 0, 1, 2, 0, 3, 3, 0, 1, 2, 2, 2])"
      ]
     },
     "execution_count": 79,
     "metadata": {},
     "output_type": "execute_result"
    }
   ],
   "source": [
    "y_train"
   ]
  },
  {
   "cell_type": "code",
   "execution_count": 80,
   "metadata": {
    "nbgrader": {
     "grade": true,
     "grade_id": "cell-1dd5ad5d0845cbbb",
     "locked": false,
     "points": 5,
     "schema_version": 2,
     "solution": true
    }
   },
   "outputs": [
    {
     "data": {
      "text/plain": [
       "GridSearchCV(estimator=LogisticRegression(),\n",
       "             param_grid={'C': [1e-05, 0.0001, 0.001, 1, 10, 100],\n",
       "                         'max_iter': [500], 'multi_class': ['multinomial'],\n",
       "                         'penalty': ['l2', 'l1'], 'solver': ['saga']})"
      ]
     },
     "execution_count": 80,
     "metadata": {},
     "output_type": "execute_result"
    }
   ],
   "source": [
    "### YOUR CODE HERE\n",
    "import warnings\n",
    "warnings.filterwarnings('ignore')\n",
    "\n",
    "grid = GridSearchCV(LogisticRegression(),\n",
    "                   {'penalty': ['l2', 'l1'],\n",
    "                    'C': [1e-5, 1e-4, 1e-3, 1, 10, 100],\n",
    "                    'solver': ['saga'],\n",
    "                   'max_iter': [500],\n",
    "                   'multi_class': ['multinomial']})\n",
    "grid.fit(X_train, y_train)"
   ]
  },
  {
   "cell_type": "code",
   "execution_count": 81,
   "metadata": {},
   "outputs": [
    {
     "data": {
      "text/plain": [
       "({'C': 100,\n",
       "  'max_iter': 500,\n",
       "  'multi_class': 'multinomial',\n",
       "  'penalty': 'l2',\n",
       "  'solver': 'saga'},\n",
       " 0.7704587155963302)"
      ]
     },
     "execution_count": 81,
     "metadata": {},
     "output_type": "execute_result"
    }
   ],
   "source": [
    "grid.best_params_, grid.best_score_"
   ]
  },
  {
   "cell_type": "code",
   "execution_count": 82,
   "metadata": {},
   "outputs": [],
   "source": [
    "from sklearn.metrics import accuracy_score, f1_score"
   ]
  },
  {
   "cell_type": "code",
   "execution_count": 105,
   "metadata": {},
   "outputs": [
    {
     "name": "stdout",
     "output_type": "stream",
     "text": [
      "accuracy: 0.8013468013468014\n",
      "f1_score: [0.93333333 0.65771812 0.68789809 0.94202899]\n"
     ]
    }
   ],
   "source": [
    "print(f'accuracy: {accuracy_score(y_test, grid.predict(X_test))}')\n",
    "print('f1_score: {}'.format(f1_score(y_test, grid.predict(X_test), average=None)))"
   ]
  },
  {
   "cell_type": "code",
   "execution_count": 107,
   "metadata": {},
   "outputs": [
    {
     "data": {
      "text/plain": [
       "<AxesSubplot:title={'center':'ROC Curves'}, xlabel='False Positive Rate', ylabel='True Positive Rate'>"
      ]
     },
     "execution_count": 107,
     "metadata": {},
     "output_type": "execute_result"
    },
    {
     "data": {
      "image/png": "[encoded data removed]",
      "text/plain": [
       "<Figure size 432x288 with 1 Axes>"
      ]
     },
     "metadata": {
      "needs_background": "light"
     },
     "output_type": "display_data"
    }
   ],
   "source": [
    "# You might use this command to install scikit-plot. \n",
    "# Warning, if you a running locally, don't call pip from within jupyter, call it from terminal in the corresponding \n",
    "# virtual environment instead\n",
    "\n",
    "# ! pip install scikit-plot\n",
    "\n",
    "from scikitplot.metrics import plot_roc\n",
    "\n",
    "plot_roc(y_test, grid.predict_proba(X_test))"
   ]
  },
  {
   "cell_type": "markdown",
   "metadata": {},
   "source": [
    "#### 2.2. PCA: explained variance plot\n",
    "* Apply the PCA to the train part of the data. Build the explaided variance plot. "
   ]
  },
  {
   "cell_type": "code",
   "execution_count": null,
   "metadata": {
    "nbgrader": {
     "grade": true,
     "grade_id": "cell-c6c614740bce090e",
     "locked": false,
     "points": 10,
     "schema_version": 2,
     "solution": true
    }
   },
   "outputs": [],
   "source": [
    "### YOUR CODE HERE"
   ]
  },
  {
   "cell_type": "markdown",
   "metadata": {
    "nbgrader": {
     "grade": false,
     "grade_id": "cell-0c1fe666f52fe53c",
     "locked": true,
     "schema_version": 2,
     "solution": false
    }
   },
   "source": [
    "#### 2.3. PCA trasformation\n",
    "* Select the appropriate number of components. Briefly explain your choice. Should you normalize the data?\n",
    "\n",
    "*Use `fit` and `transform` methods to transform the `train` and `test` parts.*"
   ]
  },
  {
   "cell_type": "code",
   "execution_count": null,
   "metadata": {
    "nbgrader": {
     "grade": true,
     "grade_id": "cell-96ab18d96473ef71",
     "locked": false,
     "points": 5,
     "schema_version": 2,
     "solution": true
    }
   },
   "outputs": [],
   "source": [
    "### YOUR CODE HERE"
   ]
  },
  {
   "cell_type": "markdown",
   "metadata": {},
   "source": [
    "**Note: From this point `sklearn` [Pipeline](https://scikit-learn.org/stable/modules/compose.html) might be useful to perform transformations on the data. Refer to the [docs](https://scikit-learn.org/stable/modules/generated/sklearn.pipeline.Pipeline.html) for more information.**"
   ]
  },
  {
   "cell_type": "markdown",
   "metadata": {
    "nbgrader": {
     "grade": false,
     "grade_id": "cell-d28b58a35c94e988",
     "locked": true,
     "schema_version": 2,
     "solution": false
    }
   },
   "source": [
    "#### 2.4. Logistic regression on PCA-preprocessed data.\n",
    "* Find optimal hyperparameters for logistic regression with cross-validation on the transformed by PCA `train` data.\n",
    "\n",
    "* Estimate the model quality with `f1` and `accuracy` scores.\n",
    "* Plot a ROC-curve for the trained model. For the multiclass case you might use `scikitplot` library (e.g. `scikitplot.metrics.plot_roc(test_labels, predicted_proba)`).\n",
    "\n",
    "*Note: please, use the following hyperparameters for logistic regression: `multi_class='multinomial'`, `solver='saga'` and `tol=1e-3`*"
   ]
  },
  {
   "cell_type": "code",
   "execution_count": null,
   "metadata": {
    "nbgrader": {
     "grade": true,
     "grade_id": "cell-12d53ea45258fa82",
     "locked": false,
     "points": 5,
     "schema_version": 2,
     "solution": true
    }
   },
   "outputs": [],
   "source": [
    "### YOUR CODE HERE"
   ]
  },
  {
   "cell_type": "markdown",
   "metadata": {
    "nbgrader": {
     "grade": false,
     "grade_id": "cell-4fbf16c64076e139",
     "locked": true,
     "schema_version": 2,
     "solution": false
    }
   },
   "source": [
    "#### 2.5. Decision tree\n",
    "* Now train a desicion tree on the same data. Find optimal tree depth (`max_depth`) using cross-validation.\n",
    "\n",
    "* Measure the model quality using the same metrics you used above."
   ]
  },
  {
   "cell_type": "code",
   "execution_count": null,
   "metadata": {
    "nbgrader": {
     "grade": true,
     "grade_id": "cell-748ed20b51c67fab",
     "locked": false,
     "points": 15,
     "schema_version": 2,
     "solution": true
    }
   },
   "outputs": [],
   "source": [
    "from sklearn.tree import DecisionTreeClassifier\n",
    "\n",
    "# YOUR CODE HERE"
   ]
  },
  {
   "cell_type": "markdown",
   "metadata": {
    "nbgrader": {
     "grade": false,
     "grade_id": "cell-9eadd4d8a03ae67a",
     "locked": true,
     "schema_version": 2,
     "solution": false
    }
   },
   "source": [
    "#### 2.6. Bagging.\n",
    "Here starts the ensembling part.\n",
    "\n",
    "First we will use the __Bagging__ approach. Build an ensemble of $N$ algorithms varying N from $N_{min}=2$ to $N_{max}=100$ (with step 5).\n",
    "\n",
    "We will build two ensembles: of logistic regressions and of decision trees.\n",
    "\n",
    "*Comment: each ensemble should be constructed from models of the same family, so logistic regressions should not be mixed up with decision trees.*\n",
    "\n",
    "\n",
    "*Hint 1: To build a __Bagging__ ensebmle varying the ensemble size efficiently you might generate $N_{max}$ subsets of `train` data (of the same size as the original dataset) using bootstrap procedure once. Then you train a new instance of logistic regression/decision tree with optimal hyperparameters you estimated before on each subset (so you train it from scratch). Finally, to get an ensemble of $N$ models you average the $N$ out of $N_{max}$ models predictions.*\n",
    "\n",
    "*Hint 2: sklearn might help you with this taks. Some appropriate function/class might be out there.*\n",
    "\n",
    "* Plot `f1` and `accuracy` scores plots w.r.t. the size of the ensemble.\n",
    "\n",
    "* Briefly analyse the plot. What is the optimal number of algorithms? Explain your answer.\n",
    "\n",
    "* How do you think, are the hyperparameters for the decision trees you found in 2.5 optimal for trees used in ensemble? "
   ]
  },
  {
   "cell_type": "code",
   "execution_count": null,
   "metadata": {
    "nbgrader": {
     "grade": true,
     "grade_id": "cell-8fc95a2b206bdae1",
     "locked": false,
     "points": 35,
     "schema_version": 2,
     "solution": true
    }
   },
   "outputs": [],
   "source": [
    "# YOUR CODE HERE"
   ]
  },
  {
   "cell_type": "code",
   "execution_count": null,
   "metadata": {},
   "outputs": [],
   "source": []
  },
  {
   "cell_type": "markdown",
   "metadata": {
    "nbgrader": {
     "grade": false,
     "grade_id": "cell-241b7691ab44cbfb",
     "locked": true,
     "schema_version": 2,
     "solution": false
    }
   },
   "source": [
    "#### 2.7. Random Forest\n",
    "Now we will work with the Random Forest (its `sklearn` implementation).\n",
    "\n",
    "* * Plot `f1` and `accuracy` scores plots w.r.t. the number of trees in Random Forest.\n",
    "\n",
    "* What is the optimal number of trees you've got? Is it different from the optimal number of logistic regressions/decision trees in 2.6? Explain the results briefly."
   ]
  },
  {
   "cell_type": "code",
   "execution_count": null,
   "metadata": {
    "nbgrader": {
     "grade": true,
     "grade_id": "cell-888755d0f3d91620",
     "locked": false,
     "points": 15,
     "schema_version": 2,
     "solution": true
    }
   },
   "outputs": [],
   "source": [
    "from sklearn.ensemble import RandomForestClassifier\n",
    "\n",
    "# YOUR CODE HERE"
   ]
  },
  {
   "cell_type": "markdown",
   "metadata": {
    "nbgrader": {
     "grade": false,
     "grade_id": "cell-99191c0852538d4d",
     "locked": true,
     "schema_version": 2,
     "solution": false
    }
   },
   "source": [
    "#### 2.8. Learning curve\n",
    "Your goal is to estimate, how does the model behaviour change with the increase of the `train` dataset size.\n",
    "\n",
    "* Split the training data into 10 equal (almost) parts. Then train the models from above (Logistic regression, Desicion Tree, Random Forest) with optimal hyperparameters you have selected on 1 part, 2 parts (combined, so the train size in increased by 2 times), 3 parts and so on.\n",
    "\n",
    "* Build a plot of `accuracy` and `f1` scores on `test` part, varying the `train` dataset size (so the axes will be score - dataset size.\n",
    "\n",
    "* Analyse the final plot. Can you make any conlusions using it? "
   ]
  },
  {
   "cell_type": "code",
   "execution_count": null,
   "metadata": {
    "nbgrader": {
     "grade": true,
     "grade_id": "cell-e39bc7e7dff61ff9",
     "locked": false,
     "points": 15,
     "schema_version": 2,
     "solution": true
    }
   },
   "outputs": [],
   "source": [
    "# YOUR CODE HERE"
   ]
  }
 ],
 "metadata": {
  "celltoolbar": "Create Assignment",
  "kernelspec": {
   "display_name": "Python 3",
   "language": "python",
   "name": "python3"
  },
  "language_info": {
   "codemirror_mode": {
    "name": "ipython",
    "version": 3
   },
   "file_extension": ".py",
   "mimetype": "text/x-python",
   "name": "python",
   "nbconvert_exporter": "python",
   "pygments_lexer": "ipython3",
   "version": "3.8.8"
  },
  "toc": {
   "base_numbering": 1,
   "nav_menu": {},
   "number_sections": false,
   "sideBar": true,
   "skip_h1_title": false,
   "title_cell": "Table of Contents",
   "title_sidebar": "Contents",
   "toc_cell": false,
   "toc_position": {},
   "toc_section_display": true,
   "toc_window_display": false
  }
 },
 "nbformat": 4,
 "nbformat_minor": 4
}
